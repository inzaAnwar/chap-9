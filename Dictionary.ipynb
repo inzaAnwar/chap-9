{
 "cells": [
  {
   "cell_type": "code",
   "execution_count": 3,
   "id": "c0dfaa56",
   "metadata": {},
   "outputs": [
    {
     "name": "stdout",
     "output_type": "stream",
     "text": [
      "{'book': 13, 'earing': 8, 'ring': 1}\n",
      "{'book': 14, 'earing': 8, 'ring': 1}\n"
     ]
    }
   ],
   "source": [
    "a=dict()\n",
    "a['book']=13\n",
    "a['earing']=8\n",
    "a['ring']=1\n",
    "print(a)\n",
    "a['book']=a['book']+1\n",
    "print(a)"
   ]
  },
  {
   "cell_type": "code",
   "execution_count": null,
   "id": "8a169fb5",
   "metadata": {},
   "outputs": [],
   "source": []
  },
  {
   "cell_type": "code",
   "execution_count": 7,
   "id": "fb603157",
   "metadata": {},
   "outputs": [
    {
     "name": "stdout",
     "output_type": "stream",
     "text": [
      "['age', 21, 0.99]\n",
      "['age', 21, 0.11]\n"
     ]
    }
   ],
   "source": [
    "#comparing list and dictionary\n",
    "a=list()\n",
    "a.append('age')\n",
    "a.append(21)\n",
    "a.append(0.99)\n",
    "print(a)\n",
    "a[2]=0.11\n",
    "print(a)\n"
   ]
  },
  {
   "cell_type": "code",
   "execution_count": 10,
   "id": "41d59fef",
   "metadata": {},
   "outputs": [
    {
     "name": "stdout",
     "output_type": "stream",
     "text": [
      "{'age': 10, 0.9: 2, 'book': 7}\n",
      "{'age': 10, 0.9: 2, 'book': 10}\n"
     ]
    }
   ],
   "source": [
    "b=dict()\n",
    "b['age']=10\n",
    "b[0.9]=2\n",
    "b['book']=7\n",
    "print(b)\n",
    "b['book']=b['book']+3\n",
    "print(b)"
   ]
  },
  {
   "cell_type": "code",
   "execution_count": 13,
   "id": "ebcbab72",
   "metadata": {},
   "outputs": [
    {
     "name": "stdout",
     "output_type": "stream",
     "text": [
      "{'book': 1, 'earing': 3, 'apple': 2}\n",
      "{}\n"
     ]
    }
   ],
   "source": [
    "a={'book':1,'earing':3,'apple':2}\n",
    "print(a)\n",
    "b={}\n",
    "print(b)"
   ]
  },
  {
   "cell_type": "code",
   "execution_count": 15,
   "id": "3434670d",
   "metadata": {},
   "outputs": [
    {
     "name": "stdout",
     "output_type": "stream",
     "text": [
      "{'ccs': 1, 'csev': 1}\n",
      "{'ccs': 1, 'csev': 2}\n"
     ]
    }
   ],
   "source": [
    "# one common use of dic counting how often to see something\n",
    "a=dict()\n",
    "a['ccs']=1\n",
    "a['csev']=1\n",
    "print(a)\n",
    "a['csev']=a['csev']+1\n",
    "print(a)"
   ]
  },
  {
   "cell_type": "code",
   "execution_count": 16,
   "id": "8b1e2515",
   "metadata": {},
   "outputs": [
    {
     "name": "stdout",
     "output_type": "stream",
     "text": [
      "{'ccs': 1, 'csev': 1}\n",
      "{'ccs': 1, 'csev': 2}\n"
     ]
    },
    {
     "ename": "KeyError",
     "evalue": "'book'",
     "output_type": "error",
     "traceback": [
      "\u001b[1;31m---------------------------------------------------------------------------\u001b[0m",
      "\u001b[1;31mKeyError\u001b[0m                                  Traceback (most recent call last)",
      "Cell \u001b[1;32mIn[16], line 7\u001b[0m\n\u001b[0;32m      5\u001b[0m a[\u001b[38;5;124m'\u001b[39m\u001b[38;5;124mcsev\u001b[39m\u001b[38;5;124m'\u001b[39m]\u001b[38;5;241m=\u001b[39ma[\u001b[38;5;124m'\u001b[39m\u001b[38;5;124mcsev\u001b[39m\u001b[38;5;124m'\u001b[39m]\u001b[38;5;241m+\u001b[39m\u001b[38;5;241m1\u001b[39m\n\u001b[0;32m      6\u001b[0m \u001b[38;5;28mprint\u001b[39m(a)\n\u001b[1;32m----> 7\u001b[0m \u001b[38;5;28mprint\u001b[39m(\u001b[43ma\u001b[49m\u001b[43m[\u001b[49m\u001b[38;5;124;43m'\u001b[39;49m\u001b[38;5;124;43mbook\u001b[39;49m\u001b[38;5;124;43m'\u001b[39;49m\u001b[43m]\u001b[49m)\n",
      "\u001b[1;31mKeyError\u001b[0m: 'book'"
     ]
    }
   ],
   "source": [
    "a=dict()\n",
    "a['ccs']=1\n",
    "a['csev']=1\n",
    "print(a)\n",
    "a['csev']=a['csev']+1\n",
    "print(a)\n",
    "print(a['book']) # that give us error we are using in operator to see key in dic or not"
   ]
  },
  {
   "cell_type": "code",
   "execution_count": 17,
   "id": "c1579f2f",
   "metadata": {},
   "outputs": [
    {
     "name": "stdout",
     "output_type": "stream",
     "text": [
      "{'ccs': 1, 'csev': 1}\n",
      "{'ccs': 1, 'csev': 2}\n"
     ]
    },
    {
     "data": {
      "text/plain": [
       "False"
      ]
     },
     "execution_count": 17,
     "metadata": {},
     "output_type": "execute_result"
    }
   ],
   "source": [
    "a=dict()\n",
    "a['ccs']=1\n",
    "a['csev']=1\n",
    "print(a)\n",
    "a['csev']=a['csev']+1\n",
    "print(a)\n",
    "'book' in a "
   ]
  },
  {
   "cell_type": "code",
   "execution_count": 27,
   "id": "d3ee6e90",
   "metadata": {},
   "outputs": [
    {
     "name": "stdout",
     "output_type": "stream",
     "text": [
      "{'inza': 2, 'hira': 2, 'umer': 1}\n"
     ]
    }
   ],
   "source": [
    "# using loop add value and key\n",
    "counts = dict()\n",
    "names = ['inza', 'hira', 'inza', 'umer', 'hira']\n",
    "for name in names :\n",
    "    if name not in counts:\n",
    "        counts[name] = 1\n",
    "    else :\n",
    "        counts[name] = counts[name] + 1\n",
    "print(counts)\n",
    "        "
   ]
  },
  {
   "cell_type": "code",
   "execution_count": 29,
   "id": "e46f34f1",
   "metadata": {},
   "outputs": [
    {
     "name": "stdout",
     "output_type": "stream",
     "text": [
      "{'inza': 3, 'hira': 1}\n"
     ]
    }
   ],
   "source": [
    "a=dict()\n",
    "name=['inza','inza','inza','hira']\n",
    "for i in name:\n",
    "    if i not in a:\n",
    "        a[i]=1\n",
    "    else:\n",
    "        a[i]=a[i]+1\n",
    "print(a)"
   ]
  },
  {
   "cell_type": "code",
   "execution_count": 33,
   "id": "aaf72405",
   "metadata": {},
   "outputs": [
    {
     "name": "stdout",
     "output_type": "stream",
     "text": [
      "{'inza': 2, 'hira': 2, 'umer': 1}\n"
     ]
    }
   ],
   "source": [
    "counts = dict()\n",
    "names = ['inza', 'hira', 'inza', 'umer', 'hira']\n",
    "for name in names :\n",
    "    if name not in counts:\n",
    "        counts[name] = 1\n",
    "    else :\n",
    "        counts[name] = counts[name] + 1\n",
    "print(counts)\n",
    "if name in counts:\n",
    "          x = counts[name]\n",
    "else :\n",
    "        x = 0\n",
    "x = counts.get(name, 0)"
   ]
  },
  {
   "cell_type": "raw",
   "id": "ea7b719c",
   "metadata": {},
   "source": []
  },
  {
   "cell_type": "code",
   "execution_count": 39,
   "id": "6c62a420",
   "metadata": {},
   "outputs": [
    {
     "name": "stdout",
     "output_type": "stream",
     "text": [
      "{'inza': 2, 'hira': 1}\n"
     ]
    }
   ],
   "source": [
    "# usging get ( )method\n",
    "a=dict()\n",
    "name=['inza','inza','hira']\n",
    "for i in name:\n",
    "    a[i]=a.get(i,0)+1\n",
    "print(a)"
   ]
  },
  {
   "cell_type": "code",
   "execution_count": 40,
   "id": "b90721bb",
   "metadata": {},
   "outputs": [
    {
     "name": "stdout",
     "output_type": "stream",
     "text": [
      "{'csev': 2, 'cwen': 2, 'zqian': 1}\n"
     ]
    }
   ],
   "source": [
    "a = dict()\n",
    "name = ['csev', 'cwen', 'csev', 'zqian', 'cwen']\n",
    "for i in name :\n",
    "    a[i] = a.get(i, 0) + 1\n",
    "print(a)"
   ]
  },
  {
   "cell_type": "code",
   "execution_count": 42,
   "id": "8d7a8f69",
   "metadata": {},
   "outputs": [
    {
     "name": "stdout",
     "output_type": "stream",
     "text": [
      "plesae enter a text linehello my name is inzaAnwar\n",
      "hello my name is inzaAnwar\n",
      "['hello', 'my', 'name', 'is', 'inzaAnwar']\n",
      "{'hello': 1, 'my': 1, 'name': 1, 'is': 1, 'inzaAnwar': 1}\n"
     ]
    }
   ],
   "source": [
    "a=dict()\n",
    "b=input(\"plesae enter a text line\")\n",
    "print(b)\n",
    "c=b.split()\n",
    "print(c)\n",
    "for i in c:\n",
    "    a[i]=a.get(i,0)+1\n",
    "print(a)\n",
    "    "
   ]
  },
  {
   "cell_type": "code",
   "execution_count": 46,
   "id": "4ad6a62c",
   "metadata": {},
   "outputs": [
    {
     "name": "stdout",
     "output_type": "stream",
     "text": [
      "inza 1\n",
      "hira 2\n",
      "book 5\n"
     ]
    }
   ],
   "source": [
    "a={'inza':1,'hira':2,'book':5}\n",
    "for i in a:\n",
    "    print(i,a[i])"
   ]
  },
  {
   "cell_type": "raw",
   "id": "5e258775",
   "metadata": {},
   "source": []
  },
  {
   "cell_type": "code",
   "execution_count": 5,
   "id": "107f7d8b",
   "metadata": {},
   "outputs": [
    {
     "name": "stdout",
     "output_type": "stream",
     "text": [
      "{'book': 3, 'apple': 2, 'Mango': 5}\n",
      "['book', 'apple', 'Mango']\n",
      "dict_values([3, 2, 5])\n",
      "dict_items([('book', 3), ('apple', 2), ('Mango', 5)])\n"
     ]
    }
   ],
   "source": [
    "# retriving list of keys values and iteams from dict\n",
    "a={'book':3,'apple':2,'Mango':5}\n",
    "print(a)\n",
    "print(list(a))\n",
    "print(a.values())\n",
    "print(a.items())"
   ]
  },
  {
   "cell_type": "code",
   "execution_count": 7,
   "id": "7aad50c4",
   "metadata": {},
   "outputs": [
    {
     "name": "stdout",
     "output_type": "stream",
     "text": [
      "book 3\n",
      "apple 2\n",
      "Mango 5\n"
     ]
    }
   ],
   "source": [
    "# 2 iteration varibales\n",
    "a={'book':3,'apple':2,'Mango':5}\n",
    "for i,j in a.items():\n",
    "    print(i,j)"
   ]
  }
 ],
 "metadata": {
  "kernelspec": {
   "display_name": "Python 3 (ipykernel)",
   "language": "python",
   "name": "python3"
  },
  "language_info": {
   "codemirror_mode": {
    "name": "ipython",
    "version": 3
   },
   "file_extension": ".py",
   "mimetype": "text/x-python",
   "name": "python",
   "nbconvert_exporter": "python",
   "pygments_lexer": "ipython3",
   "version": "3.10.9"
  }
 },
 "nbformat": 4,
 "nbformat_minor": 5
}
